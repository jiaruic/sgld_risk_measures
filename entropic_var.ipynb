{
 "cells": [
  {
   "cell_type": "code",
   "execution_count": 1,
   "id": "0bd37f18-5cd6-4a71-a6b6-fe18567207f5",
   "metadata": {},
   "outputs": [],
   "source": [
    "import numpy as np\n",
    "from scipy import integrate\n",
    "import matplotlib.pyplot as plt\n",
    "import csv\n",
    "import pandas as pd"
   ]
  },
  {
   "cell_type": "code",
   "execution_count": 4,
   "id": "4f9cf4fc-6332-4884-8a1b-195a5b0376bb",
   "metadata": {},
   "outputs": [],
   "source": [
    "#initialize parameters\n",
    "gamma=10**(-8)\n",
    "lbd=10**8\n",
    "M=10**4\n",
    "h=10**(-4)\n",
    "m0=0\n",
    "k=10**18"
   ]
  },
  {
   "cell_type": "code",
   "execution_count": 3,
   "id": "dca37f90-e1ca-40f4-add7-d01c68fdd503",
   "metadata": {},
   "outputs": [],
   "source": [
    "#function to perform stochastic gradient langevin descent\n",
    "def sgld(X,M,h,gamma,lbd,n_sim,c):\n",
    "    ms=np.zeros(M)\n",
    "    ms[0]=m0\n",
    "    dB = np.random.randn(M)   \n",
    "    for i in range(1,M):\n",
    "        dL=1-1/c*(np.sum(X>=ms[i-1]))/n_sim\n",
    "        ms[i]= ms[i-1]-(dL+gamma*ms\n",
    "                        [i-1])*h + np.sqrt(2*lbd**(-1)*h)*dB[i]\n",
    "    return ms\n",
    "\n",
    "#function to compute the average value at risk\n",
    "def avar(X,M,h,gamma,lbd,n_sim,c):\n",
    "    var=sgld(X,M,h,gamma,lbd,n_sim,c)\n",
    "    values=np.zeros((n_sim,M))\n",
    "    for i in range(n_sim):\n",
    "        values[i]=np.amax(((X[i]-var),np.zeros(M)),axis=0)\n",
    "    return np.mean(values/c,axis=0)+var+gamma/2*var**2"
   ]
  },
  {
   "cell_type": "code",
   "execution_count": 5,
   "id": "3fe19431-7543-473f-a46a-6cacc1596a55",
   "metadata": {},
   "outputs": [
    {
     "name": "stderr",
     "output_type": "stream",
     "text": [
      "<ipython-input-5-bf2f8fb0e59c>:9: IntegrationWarning: The maximum number of subdivisions (50) has been achieved.\n",
      "  If increasing the limit yields no improvement it is advised to analyze \n",
      "  the integrand in order to determine the difficulties.  If the position of a \n",
      "  local difficulty can be determined (singularity, discontinuity) one will \n",
      "  probably gain from splitting up the interval and calling the integrator \n",
      "  on the subranges.  Perhaps a special-purpose integrator should be used.\n",
      "  integrals[i]=integrate.quad(integrand, 0, 1)[0]\n"
     ]
    }
   ],
   "source": [
    "n_sim=5000\n",
    "X=np.random.randn(1,n_sim)*2+1\n",
    "J=5000\n",
    "f=[]\n",
    "integrals=np.zeros(n_sim)\n",
    "for i in range(n_sim):\n",
    "    xi =np.random.uniform(0, 1, (J,))\n",
    "    integrand = lambda x: np.mean(1/(xi)*((1-xi)<=x))\n",
    "    integrals[i]=integrate.quad(integrand, 0, 1)[0]\n",
    "    avars=[]\n",
    "    for j in range(J):\n",
    "        avars.append(avar(X[0],M,h,gamma,lbd,n_sim,1-xi[j]))\n",
    "    f.append(np.mean(avars,axis=0)-k*max((integrals[i]-1),0))\n",
    "evars=np.max(f,axis=0)"
   ]
  }
 ],
 "metadata": {
  "kernelspec": {
   "display_name": "Python 3",
   "language": "python",
   "name": "python3"
  },
  "language_info": {
   "codemirror_mode": {
    "name": "ipython",
    "version": 3
   },
   "file_extension": ".py",
   "mimetype": "text/x-python",
   "name": "python",
   "nbconvert_exporter": "python",
   "pygments_lexer": "ipython3",
   "version": "3.8.8"
  }
 },
 "nbformat": 4,
 "nbformat_minor": 5
}
