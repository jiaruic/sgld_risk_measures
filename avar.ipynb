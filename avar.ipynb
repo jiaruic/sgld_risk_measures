{
 "cells": [
  {
   "cell_type": "code",
   "execution_count": 1,
   "id": "69d45159-17e7-4e39-baf5-5f9eaa8c0c3f",
   "metadata": {},
   "outputs": [],
   "source": [
    "import numpy as np\n",
    "import matplotlib.pyplot as plt\n",
    "from scipy.stats import norm\n",
    "from random import sample"
   ]
  },
  {
   "cell_type": "code",
   "execution_count": 29,
   "id": "7f1e458b-1003-4d19-8dc3-43e9f8de137e",
   "metadata": {},
   "outputs": [],
   "source": [
    "#initialize parameters\n",
    "gamma=10**(-8)\n",
    "lbd=10**8\n",
    "M=10\n",
    "h=10**(-4)\n",
    "c=0.05\n",
    "m0=0"
   ]
  },
  {
   "cell_type": "code",
   "execution_count": 4,
   "id": "ba0489ad-d19f-4e78-abfa-c283d74f582a",
   "metadata": {},
   "outputs": [],
   "source": [
    "#function to perform stochastic gradient langevin dynamic in 1d\n",
    "def sgld(X,M,h,gamma,lbd,n_sim):\n",
    "    ms=np.zeros(M)\n",
    "    ms[0]=m0\n",
    "    dB = np.random.randn(M)   \n",
    "    for i in range(1,M):\n",
    "        dL=1-1/c*(np.sum(X>=ms[i-1]))/n_sim\n",
    "        ms[i]= ms[i-1]-(dL+gamma*ms[i-1])*h + np.sqrt(2*lbd**(-1)*h)*dB[i]\n",
    "    return ms"
   ]
  },
  {
   "cell_type": "code",
   "execution_count": 23,
   "id": "2c038cb2-0e6c-46ea-ae4d-73af7831567e",
   "metadata": {},
   "outputs": [],
   "source": [
    "#This cell computes the AVaR in the 1-dimensional case\n",
    "n_sim=10000\n",
    "X=np.random.randn(1,n_sim)\n",
    "#compute value at risk\n",
    "var=sgld(X,M,h,gamma,lbd,n_sim)\n",
    "#compute average value at risk\n",
    "values=np.zeros((n_sim,M))\n",
    "for i in range(n_sim):\n",
    "    values[i]=np.amax(((X[0][i]-var),np.zeros(M)),axis=0)\n",
    "L1=np.mean(values/0.05,axis=0)+var+gamma/2*var**2"
   ]
  },
  {
   "cell_type": "code",
   "execution_count": 37,
   "id": "959d9305-f772-4a72-aeb1-b53862966899",
   "metadata": {},
   "outputs": [],
   "source": [
    "#function to compute value at risk in the d-dimensional case\n",
    "#S is the portfolio\n",
    "def var_d(S,M):\n",
    "    d=np.shape(S)[1]\n",
    "    e1=np.zeros(d+1)\n",
    "    dB = np.sqrt(h) * np.random.randn(M)   \n",
    "    zs=np.zeros((M,d+1))\n",
    "    zs[0][0]=10\n",
    "    #preform stochastic gradient langevin descent\n",
    "    for i in range(1,M):\n",
    "        g=np.exp(zs[i-1][1:])/sum(np.exp(zs[i-1][1:]))\n",
    "        f=np.dot(g,S.T)\n",
    "        e1[0]=1+gamma*zs[i-1][0]\n",
    "        partialg=np.zeros((d,d))\n",
    "        for k in range(0,d):\n",
    "            partialg[k]=(-np.exp(np.fmin(zs[i-1][k], 0)) / (1 + np.exp(-np.abs(zs[i-1][k]))))*(np.exp(np.fmin(zs[i-1][1:], 0)) / (1 + np.exp(-np.abs(zs[i-1][1:]))))/(np.sum(np.exp(np.fmin(zs[i-1][1:],0)) / (1 + np.exp(-np.abs(zs[i-1][1:])))))**2\n",
    "        for j in range(0,d):\n",
    "            partialg[j][j]=np.exp(zs[i-1][j])*(np.sum(np.exp(zs[i-1]))-np.exp(zs[i-1][j]))/(np.sum(np.exp(zs[i-1][1:])))**2\n",
    "        g_hat=np.matmul(partialg,S.T)\n",
    "        df=np.append(-np.ones((1,n_sim)),g_hat,axis=0)\n",
    "        dL=e1+1/c*np.sum(df*(f>=zs[i-1][0]),axis=1)/n_sim\n",
    "        zs[i]= zs[i-1]-(dL)*h + np.sqrt(2*lbd**(-1))*dB[i]\n",
    "    return zs"
   ]
  },
  {
   "cell_type": "code",
   "execution_count": 38,
   "id": "8c98335c-136a-4f85-81b3-5316ea216864",
   "metadata": {},
   "outputs": [],
   "source": [
    "n_sim=10000\n",
    "#Here S is a portfolio of two Gaussian random variables\n",
    "S1=np.random.normal(1, 4, size=((n_sim,1)))\n",
    "S2=np.random.normal(0, 1, size=((n_sim,1)))\n",
    "S=np.concatenate((S1,S2),axis=1)\n",
    "#compute value at risk\n",
    "zs=var_d(S,M)\n",
    "#compute conditional value at risk\n",
    "ms=zs[:,0]\n",
    "values=np.zeros((n_sim,M))\n",
    "g=np.exp(zs[-1][1:])/sum(np.exp(zs[-1][1:]))\n",
    "f=np.dot(g,S.T)\n",
    "for i in range(n_sim):\n",
    "    values[i]=np.amax(((f[i]-ms),np.zeros(M)),axis=0)\n",
    "avar=np.mean(values/c,axis=0)+ms+gamma/2*ms**2"
   ]
  },
  {
   "cell_type": "code",
   "execution_count": null,
   "id": "e9bcac37-fe58-4c5a-ae02-d18aaac73e0e",
   "metadata": {},
   "outputs": [],
   "source": []
  }
 ],
 "metadata": {
  "kernelspec": {
   "display_name": "Python 3",
   "language": "python",
   "name": "python3"
  },
  "language_info": {
   "codemirror_mode": {
    "name": "ipython",
    "version": 3
   },
   "file_extension": ".py",
   "mimetype": "text/x-python",
   "name": "python",
   "nbconvert_exporter": "python",
   "pygments_lexer": "ipython3",
   "version": "3.8.8"
  }
 },
 "nbformat": 4,
 "nbformat_minor": 5
}
